{
 "cells": [
  {
   "cell_type": "markdown",
   "id": "a3d4387f-fa24-4a80-906b-4cca195b6736",
   "metadata": {},
   "source": [
    "# Data Analyst Certificate - Sales Strategies Analysis\n",
    "\n",
    "**New Product Sales Methods**\n",
    "\n",
    "Six weeks ago we launched a new line of office stationery. Despite the world becoming increasingly digital, there is still demand for notebooks, pens and sticky notes.\n",
    "\n",
    "Our focus has been on selling products to enable our customers to be more creative, focused on tools for brainstorming. We have tested three different sales strategies for this, targeted\n",
    "email and phone calls, as well as combining the two.\n",
    "\n",
    "- **Email**: Customers in this group received an email when the product line was launched, and a further email three weeks later. This required very little work for the team.\n",
    "- **Call**: Customers in this group were called by a member of the sales team. On average members of the team were on the phone for around thirty minutes per customer.\n",
    "- **Email and call**: Customers in this group were first sent the product information email, then called a week later by the sales team to talk about their needs and how this new product\n",
    "may support their work. The email required little work from the team, the call was around ten minutes per customer.\n",
    "\n",
    "The sales rep has pulled some data from their sales tracking system for us. They haven’t included numbers for how much time was spent on each customer, but there may be some other useful customer information in here."
   ]
  },
  {
   "cell_type": "markdown",
   "id": "06076ecb-f746-483a-8117-dca25edb2fca",
   "metadata": {},
   "source": [
    "|Column Name | Details|\n",
    "|------------|--------|\n",
    "|`week`             |Week sale was made, counted as weeks since product launch|\n",
    "|`sales_method`     |Character, which of the three sales methods were used for that customer|\n",
    "|`customer_id`      |Character, unique identifier for the customer|\n",
    "|`nb_sold`          |Numeric, number of new products sold|\n",
    "|`revenue`          |Numeric, revenue from the sales, rounded to 2 decimal places.|\n",
    "|`years_as_customer`|Numeric, number of years customer has been buying from us (company founded in 1984)|\n",
    "|`nb_site_visits`   |Numeric, number of times the customer has visited our website in the last 6 months|\n",
    "|`state`            |Character, location of the customer i.e. where orders are shipped|"
   ]
  },
  {
   "cell_type": "markdown",
   "id": "c6aa1422-d3ce-411b-935d-4ef515f2b04c",
   "metadata": {},
   "source": [
    "# Data Validation"
   ]
  },
  {
   "cell_type": "markdown",
   "id": "02175028-f136-4223-8b95-d978dbd788ec",
   "metadata": {},
   "source": [
    "Before cleaning and validation, the dataset contains 15000 rows and 8 columns. After initial exploration, three main issues were found:\n",
    "- There are typos in the `sales_method` column.\n",
    "- There are forbidden values in the `years_as_customer` column.\n",
    "- There are missing values in the `revenue` column."
   ]
  },
  {
   "cell_type": "markdown",
   "id": "fdb4a671-e2a3-4a1b-a4f0-b10dde0dab9d",
   "metadata": {},
   "source": [
    "## Cleaning `sales_method` column\n",
    "\n",
    "The unique values found in the original dataset were *Email, Email + Call, Call, em + call, email*. I replaced entries containing *em + call* and *email* with *Email + Call* and *Email*, respectively.\n",
    "\n",
    "By the end of the transformations, the `sales_method` column contains only the categories: **Email, Email + Call** and **Call**."
   ]
  },
  {
   "cell_type": "markdown",
   "id": "b7091a76-6a70-4b49-92dd-101fee0bdbab",
   "metadata": {},
   "source": [
    "## Addressing forbidden values in `years_as_customer` column\n",
    "\n",
    "The company was founded in 1984, so **there cannot be users with more than 41 years as customers**. I found 2 rows that did not match this criterion, so I decided to remove them."
   ]
  },
  {
   "cell_type": "markdown",
   "id": "6f109f0b-06ee-49c2-a166-013a4d0b38ed",
   "metadata": {},
   "source": [
    "## Addressing missing values in `revenue` column\n",
    "\n",
    "The `revenue` column contains 1074 null values, which represent about 7% of the total number of records. That is above the 3% usual threshold for missing data.\n",
    "\n",
    "To address this issue, I have explored the revenue distribution per sales method and applied different imputation approaches for each category."
   ]
  },
  {
   "cell_type": "markdown",
   "id": "69d67533-0cf0-4811-8c9a-acb651478f57",
   "metadata": {},
   "source": [
    "### Addressing missing values: *Call* method\n",
    "\n",
    "For the *Call* method, missing values represent slightly more than 3%. It presents a right-skewed distribution; therefore, **I decided to replace missing values with the median value** of the revenue within the *Call* method group."
   ]
  },
  {
   "cell_type": "markdown",
   "id": "49923667-c39b-4bb0-bce4-453b405c1999",
   "metadata": {},
   "source": [
    "### Imputation by sub-groups: *Email* method\n",
    "\n",
    "For the *Email* method, missing values represent above 7% of data. Some imputation is needed.\n",
    "\n",
    "The revenue distribution for the *Email* method shows a right-skewed multimodal distribution, displaying two peaks at 85 and 105. **Applying mean or mode imputation would not be appropriate in this case.**\n",
    "\n",
    "![email_distr_1](email_distr_1.png)\n"
   ]
  },
  {
   "cell_type": "markdown",
   "id": "c517ff83-ae6d-4b1e-8b45-aaa7abea0e2a",
   "metadata": {},
   "source": [
    "After further exploration, I observed a relationship between `week` and `revenue` that could serve as a good criterion for a sub-group imputation: **for revenues above 100, the average weeks since launch is 3.84, while for revenues below 100, it is 1.63 weeks.** \n",
    "\n",
    "Therefore, I decided to create two different groups within customers of the *Email* method, splitting by number of weeks since launch. The following graph shows the two different distributions obtained.\n",
    "\n",
    "![email_distr_2](email_distr_2.png)"
   ]
  },
  {
   "cell_type": "markdown",
   "id": "d51dd136-407d-4892-94f8-88619baed19a",
   "metadata": {},
   "source": [
    "Missing values in each group were replaced by their corresponding median value. "
   ]
  },
  {
   "cell_type": "markdown",
   "id": "50107e3b-c2de-4374-859c-f086432e5363",
   "metadata": {},
   "source": [
    "### Imputation by sub-groups: *Email + Call* method\n",
    "\n",
    "The *Email + Call* case is similar to the *Email* one. Missing values represent more than 13% of data, and revenue presents a multimodal distribution.\n",
    "\n",
    "![email_call_distr](email_call_distr.png)\n"
   ]
  },
  {
   "cell_type": "markdown",
   "id": "9c246105-5025-4bb1-bd47-9a6c359bc197",
   "metadata": {},
   "source": [
    "I split data into 4 subgroups by their revenue values, each of them being normally distributed. These groups correlate \n",
    "with the `nb_sold` column, as displayed in the following graph.\n",
    "\n",
    "![email_call_2](email_call_2.png)\n",
    "\n",
    "Therefore, I have gathered the *Email + Call* entries into 4 groups by their `nb_sold` values and applied mean imputation to missing values in each group."
   ]
  },
  {
   "cell_type": "markdown",
   "id": "e48b0c5c-0d76-4e15-91c2-43ea6fc7fed3",
   "metadata": {},
   "source": [
    "## Definitive dataset for analysis\n",
    "\n",
    "**After data validation, the dataset contains 14998 rows and 8 columns**:\n",
    "\n",
    "- `week`: 6 unique numeric values, from 1 to 6, as informed in the description. No cleaning needed. No missing values.\n",
    "- `sales_method`: 3 categories as informed in the description. Cleaning performed as described before. No missing values.\n",
    "- `customer_id`: 14998 unique categories, as informed in the description. No cleaning needed. No missing values.\n",
    "- `nb_sold`: numeric values from 7 to 16, as informed in the description. No cleaning needed. No missing values.\n",
    "- `revenue`: numeric values from 32.54 to 238.32, rounded to 2 decimal places, as informed in the description. Missing values imputed as described before.\n",
    "- `years_as_customer`: numeric values from 0 to 41, as informed in the description. Cleaning performed as described before. No missing values.\n",
    "- `nb_site_visits`: numeric values from 12 to 41, as informed in the description. No cleaning needed. No missing values.\n",
    "- `state`: 50 unique categories, as informed in the description. No cleaning needed. No missing values."
   ]
  },
  {
   "cell_type": "markdown",
   "id": "f41e4bbe-b2c8-4646-b74b-1c5978dc6703",
   "metadata": {},
   "source": [
    "# Exploratory Analysis"
   ]
  },
  {
   "cell_type": "markdown",
   "id": "40979646-55f0-45d4-a243-36e39b74e2cc",
   "metadata": {},
   "source": [
    "## How many customers were there for each approach?\n",
    "\n",
    "From the dataset tracking sales from the last 6 weeks, I found that **there were 7465 customers for the *Email* approach (50% of total), 4961 for the *Call* approach (33% of total) and 2572 for the *Email and Call* approach (17% of total)**.\n",
    "\n",
    "![number_customers](number_customers.png)"
   ]
  },
  {
   "cell_type": "markdown",
   "id": "546d19e4-e131-43fe-84ad-58e88878b414",
   "metadata": {},
   "source": [
    "The number of customers for the *Email* approach is almost equal to the sum of the other two methods. It is worth noting that the second most time-demanding method, which is *Email and Call*, presents almost half the sales of the *Call* method, the most demanding for the sales team. \n",
    "\n",
    "Since our dataset only tracks customers who made a purchase and not the total number of addressed customers, we cannot draw any further conclusions regarding the effectiveness of each approach. Given that the *Email* method is the least demanding for the sales team, it is very likely that significantly more customers were addressed through this approach than through the others during the same 6 weeks. \n",
    "\n",
    "Moreover, after exploring the total revenue per sales method, it is by the *Email* approach that the company achieved the highest total revenue. However, the *Email and Call* total revenue is about 65% of the *Email*'s, despite having only 35% of its customers.\n",
    "\n",
    "![total_revenue](total_revenue.png)"
   ]
  },
  {
   "cell_type": "markdown",
   "id": "c0c50cfd-17c4-4190-a6d4-b1f611f9a0a5",
   "metadata": {},
   "source": [
    "## What does the spread of the revenue look like overall? And for each method?\n",
    "\n",
    "Overall revenue shows a multimodal distribution, with the majority of revenues lying below 150, but with 3 distinct peaks occurring around 50, 90 and 180. It presents a significant spread, **ranging from 32.54 to 238.32**.\n",
    "\n",
    "![rev_distr](rev_distr.png)\n",
    "\n",
    "This multimodal behaviour coresponds to distinct sales methods, so extreme values above 150 cannot be classified as outliers.\n",
    "\n",
    "When comparing the spread of the revenue for each method, the IQR is considered the most significant measure. **The *Email + Call* method performed the best, achieving revenues from 155 to 190; the *Email* method ranked second, with revenues ranging from 85 to 105, while the *Call* method performed the worst, with revenues between 40 and 55**.\n",
    "\n",
    "![rev_per_method](rev_per_method.png)"
   ]
  },
  {
   "cell_type": "markdown",
   "id": "75860c10-c44f-4ebd-a86d-f74ed4e1329c",
   "metadata": {},
   "source": [
    "## Difference in revenue over time for each method\n",
    "\n",
    "The dataset tracks sales after the launch of a new line of office stationery. The column `week` records the number of weeks since launch, ranging from 1 to 6. I will use this variable to **assess the evolution of average revenue over time**.\n",
    "\n",
    "![rev_over_time](rev_over_time.png)\n",
    "\n",
    "Some conclusions:\n",
    "- All three methods display a growing average revenue over time.\n",
    "- **The *Call* method performed the worst**, while also being the most time-demanding for the sales team.\n",
    "- The difference between *Email* and *Call* average revenues remained almost constant: both have the same growth rate in average revenue.\n",
    "- **The *Email + Call* method performed the best by far**, achieving the highest average revenue every week and showing the highest growth rate over time."
   ]
  },
  {
   "cell_type": "markdown",
   "id": "1a6a1e49-d349-4d5a-af4d-d0be87fe8500",
   "metadata": {},
   "source": [
    "Another interesting metric is the time evolution of the total revenue obtained with each method. \n",
    "\n",
    "![total_rev_evol](total_rev_evol.png)\n",
    "\n",
    "Recall that the *Email* customers contributed the largest amount of revenue, but most of it was achieved in the first week: **total revenue for the *Email* method decreases rapidly over time**, although its average revenue per customer is slightly increasing. \n",
    "\n",
    "On the other hand, **the total revenue from *Email + Call* increases over time and has the highest revenue per customer every week. Moreover, its average revenue per customer is rapidly increasing throughout the weeks**."
   ]
  },
  {
   "cell_type": "markdown",
   "id": "75c83c2a-3d0e-4b3a-8cd8-b508d95a039f",
   "metadata": {},
   "source": [
    "## Customers' Purchasing History and Number of Products Sold for each method\n",
    "\n",
    "In order to better characterize customers in each group, it is worth exploring the distribution of `years_as_customer` for each method.\n",
    "\n",
    "![years_distr](years_distr.png)\n",
    "\n",
    "Although `years_as_customer` ranges from 0 to 41 years, **most sales are concentrated among users with less than 10 years as customers**. This distribution is the same for every method.\n",
    "\n",
    "Regarding the number of products sold with each method, the results are similar but **the *Email + Call* approach performed the best, ranging from 10 to 13 with a median of 12 products sold to each customer**. Products sold within the *Call* method ranged from 8 to 11, and similar results were obtained for the *Email* approach, with the number of products sold ranging between 9 and 11. \n",
    "\n",
    "![products_per_met](products_per_met.png)"
   ]
  },
  {
   "cell_type": "markdown",
   "id": "151bcc9d-cd19-4929-b752-772d6d72dd5f",
   "metadata": {},
   "source": [
    "# Business Metric\n",
    "\n",
    "Given that the sales team aims to sell their products effectively, **I would recommend using the total revenue** as our main metric to monitor. \n",
    "\n",
    "Based on the latest data, and after applying the three different methods for approaching customers for 6 weeks, the total revenue was $1,434,725.98."
   ]
  },
  {
   "cell_type": "markdown",
   "id": "feaab9eb-2fae-4ce3-93d1-911ffea77bb5",
   "metadata": {},
   "source": [
    "# Summary and Recommendations\n",
    "\n",
    "There are some conclusions to draw from the sales data analysis:\n",
    "- **The *Call* method**, which requires significant effort from the team, **performed the worst in key metrics**, such as average revenue per customer and overall revenue.\n",
    "- **The *Email* method**, the easiest for the sales team, **worked well in volume, attracting the highest number of customers and displaying the highest overall revenue** after the first 6 weeks of selling the products. \n",
    "- Nevertheless, the *Email* method loses scalability over time and does not achieve the highest average revenue per customer.\n",
    "- **The *Email + Call* method is attractive to fewer customers, but generates the highest average revenue**: customers who made a purchase after being approached by the *Email + Call* method tend to spend the most and to buy more items on average.\n",
    "- Moreover, the *Email + Call* method shows the highest growth in revenue (overall and in average revenue per customer) over time.\n",
    "\n",
    "For these reasons, I recommend following the next steps:\n",
    "\n",
    "✅ **Discontinue approaches using the *Call* method**. \n",
    "\n",
    "✅ **Continue using the *Email* method** since it allows for broader reach and requires little effort from the team.\n",
    "\n",
    "✅ **Continue using the *Email + Call* method**, since it attracts high-value customers and scales well over time.\n",
    "\n",
    "✅ **Focus on customers with less than 10 years** of buying from the company.\n",
    "\n",
    "To improve future analyses, I recommend:\n",
    "- Tracking the total number of customers contacted by the sales team to assess how effective each method was in actually producing a sale.\n",
    "- Recording what products were sold to each customer to identify customer preferences.\n",
    "- Logging how much time the team spent on each customer to evaluate efficiency."
   ]
  }
 ],
 "metadata": {
  "colab": {
   "name": "Welcome to DataCamp Workspaces.ipynb",
   "provenance": []
  },
  "kernelspec": {
   "display_name": "Python 3 (ipykernel)",
   "language": "python",
   "name": "python3"
  },
  "language_info": {
   "codemirror_mode": {
    "name": "ipython",
    "version": 3
   },
   "file_extension": ".py",
   "mimetype": "text/x-python",
   "name": "python",
   "nbconvert_exporter": "python",
   "pygments_lexer": "ipython3",
   "version": "3.12.2"
  }
 },
 "nbformat": 4,
 "nbformat_minor": 5
}
